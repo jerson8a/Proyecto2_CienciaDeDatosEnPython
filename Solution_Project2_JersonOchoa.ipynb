{
 "cells": [
  {
   "attachments": {},
   "cell_type": "markdown",
   "metadata": {},
   "source": [
    "# Proyecto Final - Ciencia de datos en Python\n",
    "#### Ingeniería de datos con Python\n",
    "Jerson Ochoa - 15004111"
   ]
  },
  {
   "attachments": {},
   "cell_type": "markdown",
   "metadata": {},
   "source": [
    "### Scope del proyecto: \n",
    "Consiste en la elaboración de un pipeline de ingeniería de datos para la construcción de un DataWarehouse con base en el **análisis de la ejecución presupuestaria de los 340 municipios de Guatemala de los años 2019, 2020 y 2021**\n",
    "Las fuentes de datos provienen del archivo de información del **Ministerio de Finanzas Guatemala** publicado en https://datos.minfin.gob.gt/. \n",
    "El objetivo del proyecto es analizar y comparar la ejecución presupuestaria (ingresos y egresos) de cada uno de los municipios  históricamente con los datos que provee el ministerio, la idea es preparar el pipeline para ingresar los datos conforme el ministerio los publica debido a que actualmente (año 2023) solo existen datos del 2021 para atrás. \n",
    "Los archivos publicados por el Ministerio de Finanzas se encuentran en formato CSV, se almacenarán en una base de datos RDS, se unificarán, se limpiarán y se transformarán los datos por medio de funciones de Python para formar un programa que realice el proceso, luego se creará una BD en formato estrella para completar el DataWarehouse. "
   ]
  },
  {
   "attachments": {},
   "cell_type": "markdown",
   "metadata": {},
   "source": [
    "## Preguntas que se intentarán responder con el análisis de datos\n",
    "1. ¿Cuál es el top 10 de municipios con el mayor ingreso global en 2021?\n",
    "2. ¿Cuál es el top 10 de municipios con el menor ingreso global en 2021?\n",
    "3. ¿Cuál es el top 10 de municipios con el mayor ingreso por tributos en 2021?\n",
    "4. ¿Cuál es el top 10 de municipios con el mayor reajuste de presupuesto en 2021?\n",
    "5. ¿Cuál es el top 10 de municipios con el mayor gasto en arrendamientos en 2021?\n",
    "\n",
    "#### Nota: Las preguntas de análisis se hacen en base al año 2021, pero perfectamente deben poder ajustarse a cualquier año con datos cargados."
   ]
  },
  {
   "cell_type": "code",
   "execution_count": null,
   "metadata": {},
   "outputs": [],
   "source": []
  }
 ],
 "metadata": {
  "language_info": {
   "name": "python"
  },
  "orig_nbformat": 4
 },
 "nbformat": 4,
 "nbformat_minor": 2
}
